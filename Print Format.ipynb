{
 "cells": [
  {
   "cell_type": "code",
   "execution_count": 5,
   "metadata": {},
   "outputs": [
    {
     "name": "stdout",
     "output_type": "stream",
     "text": [
      "i love Python\n"
     ]
    }
   ],
   "source": [
    "a = \"i love Python\"\n",
    "print(a)"
   ]
  },
  {
   "cell_type": "code",
   "execution_count": 7,
   "metadata": {},
   "outputs": [
    {
     "name": "stdout",
     "output_type": "stream",
     "text": [
      "I love Python 4\n"
     ]
    }
   ],
   "source": [
    "a  = 4\n",
    "print(\"I love Python {}\".format(a))"
   ]
  },
  {
   "cell_type": "code",
   "execution_count": 9,
   "metadata": {},
   "outputs": [
    {
     "name": "stdout",
     "output_type": "stream",
     "text": [
      "Sumit loves 3 Python\n"
     ]
    }
   ],
   "source": [
    "a = 'Sumit'\n",
    "b = 'Python'\n",
    "c = 3\n",
    "\n",
    "print(\"{0} loves {2} {1}\".format(a,b,c))"
   ]
  },
  {
   "cell_type": "code",
   "execution_count": 10,
   "metadata": {},
   "outputs": [
    {
     "name": "stdout",
     "output_type": "stream",
     "text": [
      "Sumit loves Python 3\n"
     ]
    }
   ],
   "source": [
    "a = 'Sumit'\n",
    "b = 'Python'\n",
    "c = 3\n",
    "\n",
    "print(\"{x} loves {y} {z}\".format(x = a, y = b, z=c))"
   ]
  },
  {
   "cell_type": "code",
   "execution_count": 15,
   "metadata": {},
   "outputs": [
    {
     "name": "stdout",
     "output_type": "stream",
     "text": [
      "Name____|__Age___|___Phone\n",
      "Sumit   |   24   |123456789\n"
     ]
    }
   ],
   "source": [
    "print(\"{a:_<8}|{b:_^8}|{c:_>8}\".format(a = \"Name\", b = \"Age\", c = \"Phone\"))\n",
    "print(\"{a:<8}|{b:^8}|{c:>8}\".format(a = \"Sumit\", b = \"24\", c = \"123456789\"))"
   ]
  },
  {
   "cell_type": "code",
   "execution_count": 16,
   "metadata": {},
   "outputs": [
    {
     "name": "stdout",
     "output_type": "stream",
     "text": [
      "12,356,754,574\n"
     ]
    }
   ],
   "source": [
    "a = 12356754574\n",
    "print(\"{x:,}\".format(x = a))"
   ]
  },
  {
   "cell_type": "code",
   "execution_count": 18,
   "metadata": {},
   "outputs": [
    {
     "name": "stdout",
     "output_type": "stream",
     "text": [
      "2.3400\n"
     ]
    }
   ],
   "source": [
    "a = 2.34\n",
    "# 2.3400\n",
    "\n",
    "print(\"{x:.4f}\".format(x =a))"
   ]
  },
  {
   "cell_type": "code",
   "execution_count": 19,
   "metadata": {},
   "outputs": [
    {
     "name": "stdout",
     "output_type": "stream",
     "text": [
      "8.90%\n"
     ]
    }
   ],
   "source": [
    "a = 0.089\n",
    "print(\"{x:.2%}\".format(x = a))"
   ]
  },
  {
   "cell_type": "code",
   "execution_count": 29,
   "metadata": {},
   "outputs": [
    {
     "name": "stdout",
     "output_type": "stream",
     "text": [
      "3.45\n"
     ]
    }
   ],
   "source": [
    "a = +3.45\n",
    "print(a)"
   ]
  },
  {
   "cell_type": "code",
   "execution_count": 30,
   "metadata": {},
   "outputs": [
    {
     "name": "stdout",
     "output_type": "stream",
     "text": [
      "+3.45\n"
     ]
    }
   ],
   "source": [
    "print(\"{x:+.2f}\".format(x = a))"
   ]
  }
 ],
 "metadata": {
  "kernelspec": {
   "display_name": "Python 3",
   "language": "python",
   "name": "python3"
  },
  "language_info": {
   "codemirror_mode": {
    "name": "ipython",
    "version": 3
   },
   "file_extension": ".py",
   "mimetype": "text/x-python",
   "name": "python",
   "nbconvert_exporter": "python",
   "pygments_lexer": "ipython3",
   "version": "3.7.4"
  }
 },
 "nbformat": 4,
 "nbformat_minor": 2
}
